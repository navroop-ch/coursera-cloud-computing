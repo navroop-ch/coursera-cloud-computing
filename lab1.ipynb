{
  "nbformat": 4,
  "nbformat_minor": 0,
  "metadata": {
    "colab": {
      "provenance": [],
      "authorship_tag": "ABX9TyMhFvXnPh4NqYuGV5ULvm1k",
      "include_colab_link": true
    },
    "kernelspec": {
      "name": "python3",
      "display_name": "Python 3"
    },
    "language_info": {
      "name": "python"
    }
  },
  "cells": [
    {
      "cell_type": "markdown",
      "metadata": {
        "id": "view-in-github",
        "colab_type": "text"
      },
      "source": [
        "<a href=\"https://colab.research.google.com/github/navroop-ch/coursera-cloud-computing/blob/main/lab1.ipynb\" target=\"_parent\"><img src=\"https://colab.research.google.com/assets/colab-badge.svg\" alt=\"Open In Colab\"/></a>"
      ]
    },
    {
      "cell_type": "code",
      "execution_count": 1,
      "metadata": {
        "colab": {
          "base_uri": "https://localhost:8080/"
        },
        "id": "wIfSahvcoIda",
        "outputId": "3561d85c-883b-4544-9e29-8ed338e96b3a"
      },
      "outputs": [
        {
          "output_type": "stream",
          "name": "stdout",
          "text": [
            "hello world\n"
          ]
        }
      ],
      "source": [
        "print(\"hello world\")\n"
      ]
    },
    {
      "cell_type": "markdown",
      "source": [
        "#Code Block\n",
        "command `git status` is used to check checked in files to git.\n",
        "This examples is from the coursera [course](https://www.coursera.org/programs/coursera-for-university-of-toronto-ql0lg?currentTab=MY_COURSES).\n",
        "### Task List\n",
        "- [ ] intro\n",
        "- [x] body\n"
      ],
      "metadata": {
        "id": "3KYfeFyxoiqG"
      }
    },
    {
      "cell_type": "markdown",
      "source": [],
      "metadata": {
        "id": "CoV_UwsQt1Gi"
      }
    },
    {
      "cell_type": "markdown",
      "source": [
        "# Body\n"
      ],
      "metadata": {
        "id": "wtw7G8EDt2LR"
      }
    },
    {
      "cell_type": "code",
      "source": [
        "def sum():\n",
        "  print(2+3)"
      ],
      "metadata": {
        "id": "QjHnNnO1t77O"
      },
      "execution_count": 2,
      "outputs": []
    }
  ]
}